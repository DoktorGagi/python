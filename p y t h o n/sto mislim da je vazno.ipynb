{
 "cells": [
  {
   "cell_type": "code",
   "execution_count": 3,
   "metadata": {},
   "outputs": [
    {
     "name": "stdout",
     "output_type": "stream",
     "text": [
      "617\n"
     ]
    }
   ],
   "source": [
    "# kako se rucno sumira lista\n",
    "student_scores = [78, 65, 89, 86, 55, 91, 64, 89]\n",
    "sum = 0\n",
    "for score in student_scores:\n",
    "    sum += score\n",
    "print(sum)"
   ]
  },
  {
   "cell_type": "code",
   "execution_count": 13,
   "metadata": {},
   "outputs": [
    {
     "name": "stdout",
     "output_type": "stream",
     "text": [
      "    *\n",
      "   ***\n",
      "  *****\n",
      " *******\n",
      "*********\n"
     ]
    }
   ],
   "source": [
    "# Visina piramide\n",
    "visina = 5\n",
    "\n",
    "# Iscrtavanje piramide\n",
    "for red in range(visina):\n",
    "    print(\" \" * (visina - red - 1) + \"*\" * (2 * red + 1))\n"
   ]
  },
  {
   "cell_type": "code",
   "execution_count": 1,
   "metadata": {},
   "outputs": [
    {
     "name": "stdout",
     "output_type": "stream",
     "text": [
      "The highest score is: 91\n"
     ]
    }
   ],
   "source": [
    "student_scores = [78,65,89,86,55,91,64,89]\n",
    "result = 0\n",
    "for num in student_scores:\n",
    "    if num > result:\n",
    "        result = num\n",
    "print(\"The highest score is:\",result)\n"
   ]
  },
  {
   "cell_type": "code",
   "execution_count": 1,
   "metadata": {},
   "outputs": [
    {
     "name": "stdout",
     "output_type": "stream",
     "text": [
      "The sum of even numbers up to 100 is: 2550\n"
     ]
    }
   ],
   "source": [
    "human = int(input(\"Enter the number for the sum of even numbers:\\n\"))\n",
    "result = 0\n",
    "\n",
    "if human >= 100000001:\n",
    "    print(\"Too large number, try again!\")\n",
    "else:\n",
    "    for even_num in range(0, human +1):\n",
    "        if even_num % 2 == 0:\n",
    "            result += even_num\n",
    "\n",
    "print(\"The sum of even numbers up to\", human, \"is:\", result)\n"
   ]
  },
  {
   "cell_type": "code",
   "execution_count": 1,
   "metadata": {},
   "outputs": [
    {
     "name": "stdout",
     "output_type": "stream",
     "text": [
      "[2, 6, 10, 4, 7]\n"
     ]
    }
   ],
   "source": [
    "import random\n",
    "\n",
    "brojevi = [1, 2, 3, 4, 5, 6, 7, 8, 9, 10]\n",
    "\n",
    "broj_brojeva = int(input(\"Koliko brojeva želiš dobiti? \"))\n",
    "\n",
    "\n",
    "random_brojevi = random.sample(brojevi, broj_brojeva)\n",
    "print(random_brojevi)"
   ]
  },
  {
   "cell_type": "code",
   "execution_count": 4,
   "metadata": {},
   "outputs": [
    {
     "name": "stdout",
     "output_type": "stream",
     "text": [
      "5\n"
     ]
    }
   ],
   "source": [
    "def my_funkction(nesto,slicno):  #   \"nesto\"    i      \"slicno\"     su      P A R A M E T R I      odnosno      varijable \n",
    "    rezultat = nesto + slicno   #    koje        ce      se      koristiti      za       spremanje       vrijednosti\n",
    "    print(rezultat)            #     odn.    dolje    cemo   im     dodijeliti      vrijednosti  tj.    A R G U M E N T E\n",
    "my_funkction( nesto = 2 , slicno = 3 ) #   a    ovdje    smo    im    dodijelili      A R G U M E N T E     \"2\"   i   \"3\"\n",
    "\n",
    "#  znaci       PARAMETRIMA         dajes        ARGUMENTE\n",
    "#  iliti      VARIJABLAMA         dajes        VRIJEDNOSTI"
   ]
  },
  {
   "cell_type": "code",
   "execution_count": 11,
   "metadata": {},
   "outputs": [
    {
     "name": "stdout",
     "output_type": "stream",
     "text": [
      "24\n",
      "You will need: 48 cans of paint!\n"
     ]
    }
   ],
   "source": [
    "\n",
    "def calculate_coverage( height , width) :\n",
    "    squares = height * width\n",
    "    print(squares) \n",
    "    numbers_of_cans = squares / 0.5\n",
    "    print(\"You will need:\",round(numbers_of_cans),\"cans of paint!\")\n",
    "\n",
    "calculate_coverage(4,6)\n"
   ]
  },
  {
   "cell_type": "code",
   "execution_count": 3,
   "metadata": {},
   "outputs": [
    {
     "name": "stdout",
     "output_type": "stream",
     "text": [
      "[1, 2, 3, 4, 5, 6, 'b', 'c', 'a']\n"
     ]
    }
   ],
   "source": [
    "my_list = [1, 2, 3, 3, 4, 5, 5, 6,\"a\",\"b\",\"c\",\"a\"]\n",
    "\n",
    "for item in my_list[:]:\n",
    "    if my_list.count(item) > 1:\n",
    "        my_list.remove(item)\n",
    "\n",
    "print(my_list)"
   ]
  },
  {
   "cell_type": "code",
   "execution_count": 10,
   "metadata": {},
   "outputs": [
    {
     "name": "stdout",
     "output_type": "stream",
     "text": [
      "pretvoreno u dict:\n",
      " {1: None, 2: None, 3: None, 4: None, 5: None, 6: None, 'a': None, 'b': None, 'c': None}\n",
      "i vraceno u listu:\n",
      " [1, 2, 3, 4, 5, 6, 'a', 'b', 'c']\n"
     ]
    }
   ],
   "source": [
    "my_list = [1, 2, 3, 3, 4, 5, 5, 6, \"a\", \"b\", \"c\", \"a\"]\n",
    "# Pretvorimo listu u rječnik, ključevi će automatski ukloniti duplikate\n",
    "my_dict = dict.fromkeys(my_list)\n",
    "print(\"pretvoreno u dict:\\n\",my_dict)\n",
    "# Ponovno pretvorimo ključeve rječnika u listu\n",
    "my_list = list(my_dict.keys())\n",
    "print(\"i vraceno u listu:\\n\",my_list)"
   ]
  },
  {
   "cell_type": "code",
   "execution_count": null,
   "metadata": {},
   "outputs": [],
   "source": [
    "import requests\n",
    "\n",
    "# Postavljanje URL-a API-ja i parametara ako ih ima\n",
    "url = 'https://api.example.com/data'\n",
    "params = {'param1': 'value1', 'param2': 'value2'}\n",
    "\n",
    "# Slanje GET zahtjeva\n",
    "response = requests.get(url, params=params)\n",
    "\n",
    "# Provjera statusnog koda odgovora\n",
    "if response.status_code == 200:\n",
    "    # Ako je zahtjev uspješan, dohvatite podatke iz odgovora\n",
    "    data = response.json()\n",
    "    print(data)\n",
    "else:\n",
    "    # Ako je došlo do greške, ispišite statusni kod\n",
    "    print('Greška:', response.status_code)\n"
   ]
  }
 ],
 "metadata": {
  "kernelspec": {
   "display_name": "Python 3",
   "language": "python",
   "name": "python3"
  },
  "language_info": {
   "codemirror_mode": {
    "name": "ipython",
    "version": 3
   },
   "file_extension": ".py",
   "mimetype": "text/x-python",
   "name": "python",
   "nbconvert_exporter": "python",
   "pygments_lexer": "ipython3",
   "version": "3.11.4"
  },
  "orig_nbformat": 4
 },
 "nbformat": 4,
 "nbformat_minor": 2
}
